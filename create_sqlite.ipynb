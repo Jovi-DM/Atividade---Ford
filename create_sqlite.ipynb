{
 "cells": [
  {
   "cell_type": "code",
   "execution_count": 18,
   "id": "059d5faa",
   "metadata": {},
   "outputs": [],
   "source": [
    "import pandas as pd"
   ]
  },
  {
   "cell_type": "code",
   "execution_count": 19,
   "id": "82b79255",
   "metadata": {},
   "outputs": [],
   "source": [
    "fields = [\"nome\", \"cargo\", \"salario\", \"data_admissao\"]"
   ]
  },
  {
   "cell_type": "code",
   "execution_count": 20,
   "id": "9e2cbf50",
   "metadata": {},
   "outputs": [],
   "source": [
    "workers = [\n",
    "    ('Alice', 'Desenvolvedora', 6000.00, '2020-01-15'),\n",
    "    ('Bruno', 'Gerente', 30000.00, '2018-03-01'),\n",
    "    ('Carlos', 'Analista', 8000.00, '2021-06-10'),\n",
    "    ('Diana', 'Desenvolvedora', 7500.00, '2019-05-20'),\n",
    "    ('Eva', 'Designer', 9000.00, '2022-02-25'),\n",
    "    ('Faythe', 'Gerente de Projetos', 25000.00, '2017-07-30'),\n",
    "    ('Gabriel', 'Desenvolvedora', 6200.00, '2021-04-15'),\n",
    "    ('Heidi', 'Analista de Dados', 9500.00, '2020-08-10'),\n",
    "    ('Ivan', 'Tester', 4500.00, '2020-12-05'),\n",
    "    ('Judy', 'Desenvolvedora', 7000.00, '2019-10-25'),\n",
    "    ('Karla', 'Analista', 12000.00, '2021-02-20'),\n",
    "    ('Liam', 'Gerente', 28000.00, '2018-11-11'),\n",
    "    ('Mariana', 'Desenvolvedora', 5700.00, '2019-03-30'),\n",
    "    ('Nina', 'Designer', 11000.00, '2021-05-05'),\n",
    "    ('Oscar', 'Desenvolvedor', 6400.00, '2020-06-15'),\n",
    "    ('Peggy', 'Gerente de Marketing', 27000.00, '2016-09-01'),\n",
    "    ('Quentin', 'Analista de Negócios', 10500.00, '2021-01-10'),\n",
    "    ('Rupert', 'Tester', 4200.00, '2020-11-20'),\n",
    "    ('Sybil', 'Desenvolvedora', 6200.00, '2019-12-15'),\n",
    "    ('Trent', 'Gerente de Vendas', 29000.00, '2017-05-25'),\n",
    "    ('Uma', 'Desenvolvedora', 6800.00, '2018-04-01'),\n",
    "    ('Victor', 'Designer', 9600.00, '2021-03-20'),\n",
    "    ('Walter', 'Analista de Dados', 8800.00, '2020-07-30'),\n",
    "    ('Xena', 'Gerente de Projetos', 25000.00, '2016-08-15'),\n",
    "    ('Yara', 'Desenvolvedora', 7300.00, '2021-09-10'),\n",
    "    ('Zico', 'Tester', 4600.00, '2020-10-05'),\n",
    "    ('André', 'Desenvolvedor', 5900.00, '2020-01-12'),\n",
    "    ('Betty', 'Analista', 8500.00, '2021-06-10'),\n",
    "    ('Clara', 'Gerente de Marketing', 26000.00, '2019-07-20'),\n",
    "    ('David', 'Designer', 9500.00, '2022-02-25'),\n",
    "    ('Eva', 'Desenvolvedora', 6400.00, '2020-04-15'),\n",
    "    ('Finley', 'Analista de Sistemas', 8000.00, '2021-11-10'),\n",
    "    ('Gina', 'Tester', 4700.00, '2020-12-05'),\n",
    "    ('Harry', 'Desenvolvedor', 5800.00, '2019-10-25'),\n",
    "    ('Isabel', 'Gerente', 27000.00, '2018-11-11'),\n",
    "    ('Jack', 'Analista', 10200.00, '2021-02-20'),\n",
    "    ('Lara', 'Desenvolvedora', 7500.00, '2019-03-30'),\n",
    "    ('Mia', 'Designer', 9800.00, '2021-05-05'),\n",
    "    ('Nate', 'Analista', 9900.00, '2021-06-15'),\n",
    "    ('Olga', 'Gerente de Projetos', 24000.00, '2016-09-01'),\n",
    "    ('Pete', 'Desenvolvedor', 7000.00, '2020-08-10'),\n",
    "    ('Quinn', 'Analista de Negócios', 11400.00, '2021-01-10'),\n",
    "    ('Ryan', 'Tester', 4200.00, '2020-11-20'),\n",
    "    ('Sam', 'Desenvolvedora', 6500.00, '2019-12-15'),\n",
    "    ('Tina', 'Gerente de Vendas', 28000.00, '2017-05-25'),\n",
    "    ('Uma', 'Desenvolvedora', 6600.00, '2018-04-01'),\n",
    "    ('Victor', 'Designer', 9700.00, '2021-03-20'),\n",
    "    ('Wendy', 'Analista de Dados', 8900.00, '2020-07-30')\n",
    "]"
   ]
  },
  {
   "cell_type": "code",
   "execution_count": 21,
   "id": "614bf74a",
   "metadata": {},
   "outputs": [],
   "source": [
    "dataframe = pd.DataFrame(workers,columns=fields,index=range(0, len(workers)))\n",
    "with open('workers.json', 'w', encoding='utf-8') as f:\n",
    "    f.write('[' + ','.join(dataframe.to_json(orient='records', lines=True, force_ascii=False).splitlines()) + ']')"
   ]
  }
 ],
 "metadata": {
  "kernelspec": {
   "display_name": "Python 3",
   "language": "python",
   "name": "python3"
  },
  "language_info": {
   "codemirror_mode": {
    "name": "ipython",
    "version": 3
   },
   "file_extension": ".py",
   "mimetype": "text/x-python",
   "name": "python",
   "nbconvert_exporter": "python",
   "pygments_lexer": "ipython3",
   "version": "3.11.3"
  }
 },
 "nbformat": 4,
 "nbformat_minor": 5
}
